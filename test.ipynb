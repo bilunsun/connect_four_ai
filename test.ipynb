{
 "nbformat": 4,
 "nbformat_minor": 2,
 "metadata": {
  "language_info": {
   "name": "python",
   "codemirror_mode": {
    "name": "ipython",
    "version": 3
   },
   "version": "3.7.5-final"
  },
  "orig_nbformat": 2,
  "file_extension": ".py",
  "mimetype": "text/x-python",
  "name": "python",
  "npconvert_exporter": "python",
  "pygments_lexer": "ipython3",
  "version": 3,
  "kernelspec": {
   "name": "connect_four_ai_kernel",
   "display_name": "connect_four_ai_kernel"
  }
 },
 "cells": [
  {
   "cell_type": "code",
   "execution_count": 1,
   "metadata": {},
   "outputs": [],
   "source": [
    "import torch\n",
    "\n",
    "from main import play_sample_game_with_model\n",
    "from neural_network_utils import load_npy_data\n",
    "from torch_model import Model, train_model\n"
   ]
  },
  {
   "cell_type": "code",
   "execution_count": 2,
   "metadata": {},
   "outputs": [
    {
     "name": "stdout",
     "output_type": "stream",
     "text": "states.shape: torch.Size([3133, 3, 6, 7])\npolicies.shape: torch.Size([3133, 7])\nvalues.shape: torch.Size([3133])\n"
    }
   ],
   "source": [
    "# Load the data\n",
    "states, policies, values = load_npy_data()\n",
    "\n",
    "# Then convert the data into PyTorch tensors\n",
    "states = torch.from_numpy(states).float().cuda()\n",
    "policies = torch.from_numpy(policies).float().cuda()\n",
    "values = torch.from_numpy(values).float().cuda()\n",
    "\n",
    "print(\"states.shape:\", states.shape)\n",
    "print(\"policies.shape:\", policies.shape)\n",
    "print(\"values.shape:\", values.shape)"
   ]
  },
  {
   "cell_type": "code",
   "execution_count": 3,
   "metadata": {},
   "outputs": [],
   "source": [
    "# Create a function to group the data into batches\n",
    "def create_batches(states, policies, values, batch_size=64):\n",
    "    batches_count = states.shape[0] // batch_size\n",
    "    batched_data = []\n",
    "\n",
    "    for batch_index in range(batches_count):\n",
    "        start_index = 64 * batch_index\n",
    "        end_index = 64 * (batch_index + 1)\n",
    "\n",
    "        batch_states = states[start_index: end_index]\n",
    "        batch_policies = policies[start_index: end_index]\n",
    "        batch_values = values[start_index: end_index]\n",
    "\n",
    "        batch_data = (batch_states, (batch_policies, batch_values))\n",
    "        batched_data.append(batch_data)\n",
    "\n",
    "    return batched_data\n",
    "\n",
    "\n",
    "# Create the batches\n",
    "train_data = create_batches(states, policies, values)"
   ]
  },
  {
   "cell_type": "code",
   "execution_count": 4,
   "metadata": {},
   "outputs": [
    {
     "name": "stdout",
     "output_type": "stream",
     "text": "[0, 0] loss: 0.0062849164009094235\n[1, 0] loss: 0.006286131143569946\n[2, 0] loss: 0.006069422364234924\n[3, 0] loss: 0.0058152502775192265\n[4, 0] loss: 0.0057892268896102906\n[5, 0] loss: 0.005697136521339416\n[6, 0] loss: 0.005589849948883056\n[7, 0] loss: 0.005515225529670716\n[8, 0] loss: 0.005698313117027283\n[9, 0] loss: 0.005643303990364074\nDone.\n"
    }
   ],
   "source": [
    "# Instantiate the model\n",
    "model = Model().cuda()\n",
    "\n",
    "# Train the model\n",
    "train_model(model, train_data)"
   ]
  },
  {
   "cell_type": "code",
   "execution_count": 11,
   "metadata": {},
   "outputs": [
    {
     "name": "stdout",
     "output_type": "stream",
     "text": "[0, 0] loss: 0.005363644957542419\n[1, 0] loss: 0.005313974618911743\n[2, 0] loss: 0.0052798867225646974\n[3, 0] loss: 0.005256625413894653\n[4, 0] loss: 0.0052578204870224\n[5, 0] loss: 0.005256733298301697\n[6, 0] loss: 0.005253722667694092\n[7, 0] loss: 0.005254929065704346\n[8, 0] loss: 0.005250177383422852\n[9, 0] loss: 0.005252848863601684\n[10, 0] loss: 0.005253406167030334\n[11, 0] loss: 0.005256550312042236\n[12, 0] loss: 0.005255236625671387\n[13, 0] loss: 0.005254924297332764\n[14, 0] loss: 0.005273787379264832\n[15, 0] loss: 0.0052841055393218995\n[16, 0] loss: 0.00527816891670227\n[17, 0] loss: 0.00526566207408905\n[18, 0] loss: 0.0052581608295440676\n[19, 0] loss: 0.005250056385993958\nDone.\n"
    }
   ],
   "source": [
    "# Train the model\n",
    "train_model(model, train_data, epochs=20, learning_rate=0.0001)"
   ]
  },
  {
   "cell_type": "code",
   "execution_count": 14,
   "metadata": {},
   "outputs": [
    {
     "name": "stdout",
     "output_type": "stream",
     "text": "NN Policy: tensor([ 0.2509,  0.2600,  0.2348,  0.1534, -0.0413,  0.1108,  0.1588])\nNN Value: tensor([-0.9441])\nTurn: White\n0  1  2  3  4  5  6\n.  .  .  .  .  .  .  \n.  .  .  .  .  .  .  \n.  .  .  .  .  .  .  \n.  .  .  .  .  .  .  \n.  .  .  .  .  .  .  \n.  X  .  .  .  .  .  \n\nNN Policy: tensor([ 0.0101,  0.2731,  0.2716,  0.2458,  0.1001,  0.2288, -0.1874])\nNN Value: tensor([0.7874])\nTurn: Black\n0  1  2  3  4  5  6\n.  .  .  .  .  .  .  \n.  .  .  .  .  .  .  \n.  .  .  .  .  .  .  \n.  .  .  .  .  .  .  \n.  O  .  .  .  .  .  \n.  X  .  .  .  .  .  \n\nNN Policy: tensor([ 0.0138,  0.2469,  0.2222,  0.3938,  0.1455,  0.1855, -0.0469])\nNN Value: tensor([-0.9816])\nTurn: White\n0  1  2  3  4  5  6\n.  .  .  .  .  .  .  \n.  .  .  .  .  .  .  \n.  .  .  .  .  .  .  \n.  .  .  .  .  .  .  \n.  O  .  .  .  .  .  \n.  X  .  X  .  .  .  \n\nNN Policy: tensor([-0.1136,  0.2102,  0.1052,  0.2971,  0.2767,  0.3064, -0.0760])\nNN Value: tensor([-0.9961])\nTurn: Black\n0  1  2  3  4  5  6\n.  .  .  .  .  .  .  \n.  .  .  .  .  .  .  \n.  .  .  .  .  .  .  \n.  .  .  .  .  .  .  \n.  O  .  .  .  .  .  \n.  X  .  X  .  O  .  \n\nNN Policy: tensor([0.1459, 0.1748, 0.1475, 0.0647, 0.4138, 0.2987, 0.1149])\nNN Value: tensor([-0.9677])\nTurn: White\n0  1  2  3  4  5  6\n.  .  .  .  .  .  .  \n.  .  .  .  .  .  .  \n.  .  .  .  .  .  .  \n.  .  .  .  .  .  .  \n.  O  .  .  .  .  .  \n.  X  .  X  X  O  .  \n\nNN Policy: tensor([ 0.0647,  0.1284,  0.3328,  0.0770,  0.3195,  0.3917, -0.1757])\nNN Value: tensor([-0.9929])\nTurn: Black\n0  1  2  3  4  5  6\n.  .  .  .  .  .  .  \n.  .  .  .  .  .  .  \n.  .  .  .  .  .  .  \n.  .  .  .  .  .  .  \n.  O  .  .  .  O  .  \n.  X  .  X  X  O  .  \n\nNN Policy: tensor([ 0.0533,  0.2428,  0.0356,  0.1717,  0.3139,  0.3598, -0.0387])\nNN Value: tensor([-0.9739])\nTurn: White\n0  1  2  3  4  5  6\n.  .  .  .  .  .  .  \n.  .  .  .  .  .  .  \n.  .  .  .  .  .  .  \n.  .  .  .  .  X  .  \n.  O  .  .  .  O  .  \n.  X  .  X  X  O  .  \n\nNN Policy: tensor([ 0.3027,  0.2672,  0.0265, -0.0182,  0.1336,  0.2648, -0.1227])\nNN Value: tensor([-0.9776])\nTurn: Black\n0  1  2  3  4  5  6\n.  .  .  .  .  .  .  \n.  .  .  .  .  .  .  \n.  .  .  .  .  .  .  \n.  .  .  .  .  X  .  \n.  O  .  .  .  O  .  \nO  X  .  X  X  O  .  \n\nNN Policy: tensor([ 0.0549,  0.0396,  0.2430, -0.0205,  0.1485,  0.4361,  0.0664])\nNN Value: tensor([-0.9699])\nTurn: White\n0  1  2  3  4  5  6\n.  .  .  .  .  .  .  \n.  .  .  .  .  .  .  \n.  .  .  .  .  X  .  \n.  .  .  .  .  X  .  \n.  O  .  .  .  O  .  \nO  X  .  X  X  O  .  \n\nNN Policy: tensor([0.3012, 0.3355, 0.1274, 0.0062, 0.1028, 0.1888, 0.1199])\nNN Value: tensor([-0.9758])\nTurn: Black\n0  1  2  3  4  5  6\n.  .  .  .  .  .  .  \n.  .  .  .  .  .  .  \n.  .  .  .  .  X  .  \n.  O  .  .  .  X  .  \n.  O  .  .  .  O  .  \nO  X  .  X  X  O  .  \n\nNN Policy: tensor([0.2250, 0.2205, 0.3506, 0.0700, 0.1241, 0.2486, 0.0147])\nNN Value: tensor([-0.9778])\nTurn: White\n0  1  2  3  4  5  6\n.  .  .  .  .  .  .  \n.  .  .  .  .  .  .  \n.  .  .  .  .  X  .  \n.  O  .  .  .  X  .  \n.  O  .  .  .  O  .  \nO  X  X  X  X  O  .  \n\n"
    }
   ],
   "source": [
    "play_sample_game_with_model(model)"
   ]
  },
  {
   "cell_type": "code",
   "execution_count": null,
   "metadata": {},
   "outputs": [],
   "source": []
  }
 ]
}