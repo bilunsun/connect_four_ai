{
 "nbformat": 4,
 "nbformat_minor": 2,
 "metadata": {
  "language_info": {
   "name": "python",
   "codemirror_mode": {
    "name": "ipython",
    "version": 3
   },
   "version": "3.7.5-final"
  },
  "orig_nbformat": 2,
  "file_extension": ".py",
  "mimetype": "text/x-python",
  "name": "python",
  "npconvert_exporter": "python",
  "pygments_lexer": "ipython3",
  "version": 3,
  "kernelspec": {
   "name": "connect_four_ai_kernel",
   "display_name": "connect_four_ai_kernel"
  }
 },
 "cells": [
  {
   "cell_type": "code",
   "execution_count": 1,
   "metadata": {},
   "outputs": [],
   "source": [
    "import torch\n",
    "\n",
    "from main import play_sample_game_with_model\n",
    "from neural_network_utils import load_npy_data\n",
    "from torch_model import Model, train_model\n"
   ]
  },
  {
   "cell_type": "code",
   "execution_count": 2,
   "metadata": {},
   "outputs": [
    {
     "name": "stdout",
     "output_type": "stream",
     "text": "states.shape: torch.Size([32698, 3, 6, 7])\npolicies.shape: torch.Size([32698, 7])\nvalues.shape: torch.Size([32698])\n"
    }
   ],
   "source": [
    "# Load the data\n",
    "states, policies, values = load_npy_data()\n",
    "\n",
    "# Then convert the data into PyTorch tensors\n",
    "states = torch.from_numpy(states).float().cuda()\n",
    "policies = torch.from_numpy(policies).float().cuda()\n",
    "values = torch.from_numpy(values).float().cuda()\n",
    "\n",
    "print(\"states.shape:\", states.shape)\n",
    "print(\"policies.shape:\", policies.shape)\n",
    "print(\"values.shape:\", values.shape)"
   ]
  },
  {
   "cell_type": "code",
   "execution_count": 3,
   "metadata": {},
   "outputs": [],
   "source": [
    "# Create a function to group the data into batches\n",
    "def create_batches(states, policies, values, batch_size=64):\n",
    "    batches_count = states.shape[0] // batch_size\n",
    "    batched_data = []\n",
    "\n",
    "    for batch_index in range(batches_count):\n",
    "        start_index = 64 * batch_index\n",
    "        end_index = 64 * (batch_index + 1)\n",
    "\n",
    "        batch_states = states[start_index: end_index]\n",
    "        batch_policies = policies[start_index: end_index]\n",
    "        batch_values = values[start_index: end_index]\n",
    "\n",
    "        batch_data = (batch_states, (batch_policies, batch_values))\n",
    "        batched_data.append(batch_data)\n",
    "\n",
    "    return batched_data\n",
    "\n",
    "\n",
    "# Create the batches\n",
    "train_data = create_batches(states, policies, values)"
   ]
  },
  {
   "cell_type": "code",
   "execution_count": 4,
   "metadata": {},
   "outputs": [
    {
     "name": "stdout",
     "output_type": "stream",
     "text": "[0, 0] loss: 0.006490335464477539\n[0, 200] loss: 1.0426629739627242\n[0, 400] loss: 0.9975074104219676\n[1, 0] loss: 0.0055049598217010495\n[1, 200] loss: 1.0275124653056265\n[1, 400] loss: 0.9885934852808714\n[2, 0] loss: 0.005458171963691711\n[2, 200] loss: 1.0256898556277156\n[2, 400] loss: 0.9849565913900733\n[3, 0] loss: 0.0054616773128509525\n[3, 200] loss: 1.0225708158314228\n[3, 400] loss: 0.9821840541064739\n[4, 0] loss: 0.005450524091720581\n[4, 200] loss: 1.0190478206425906\n[4, 400] loss: 0.978538531512022\n[5, 0] loss: 0.005431268215179443\n[5, 200] loss: 1.0176702028140425\n[5, 400] loss: 0.9782892985641957\n[6, 0] loss: 0.005433815717697144\n[6, 200] loss: 1.0085655111819505\n[6, 400] loss: 0.9775990724936128\n[7, 0] loss: 0.005417351126670838\n[7, 200] loss: 0.9990505203604698\n[7, 400] loss: 0.973168509863317\n[8, 0] loss: 0.005447244644165039\n[8, 200] loss: 0.9868611437082291\n[8, 400] loss: 0.9620297027379274\n[9, 0] loss: 0.005465421676635742\n[9, 200] loss: 0.9700974923372269\n[9, 400] loss: 0.9627509993314743\nDone.\n"
    }
   ],
   "source": [
    "# Instantiate the model\n",
    "model = Model().cuda()\n",
    "\n",
    "# Train the model\n",
    "train_model(model, train_data)"
   ]
  },
  {
   "cell_type": "code",
   "execution_count": 5,
   "metadata": {},
   "outputs": [
    {
     "name": "stdout",
     "output_type": "stream",
     "text": "[0, 0] loss: 0.10973556041717529\n[0, 10] loss: 0.8953492730855942\n[0, 20] loss: 0.8817059189081192\n[0, 30] loss: 1.0232446014881134\n[0, 40] loss: 1.0223386585712433\n[0, 50] loss: 0.8876881301403046\n[0, 60] loss: 0.9386918127536774\n[0, 70] loss: 0.9879222273826599\n[0, 80] loss: 0.9937357127666473\n[0, 90] loss: 1.0299693405628205\n[0, 100] loss: 1.0386572420597076\n[0, 110] loss: 0.9204074829816818\n[0, 120] loss: 0.8544064372777939\n[0, 130] loss: 0.8889709003269672\n[0, 140] loss: 1.0358852565288543\n[0, 150] loss: 0.8666288882493973\n[0, 160] loss: 1.0046903192996979\n[0, 170] loss: 0.9890736222267151\n[0, 180] loss: 0.9591405779123306\n[0, 190] loss: 0.9530097842216492\n[0, 200] loss: 0.9139062702655792\n[0, 210] loss: 0.8773505181074143\n[0, 220] loss: 0.9386531949043274\n[0, 230] loss: 1.0333682119846344\n[0, 240] loss: 0.8629172146320343\n[0, 250] loss: 1.0407519459724426\n[0, 260] loss: 0.7007297813892365\n[0, 270] loss: 0.989693284034729\n[0, 280] loss: 1.0547072649002076\n[0, 290] loss: 0.9010628461837769\n[0, 300] loss: 0.95769784450531\n[0, 310] loss: 0.9299436569213867\n[0, 320] loss: 1.0129193305969237\n[0, 330] loss: 0.9248381793498993\n[0, 340] loss: 0.9962559103965759\n[0, 350] loss: 0.910710284113884\n[0, 360] loss: 0.962769603729248\n[0, 370] loss: 0.8956757426261902\n[0, 380] loss: 0.923202995955944\n[0, 390] loss: 0.9554425954818726\n[0, 400] loss: 0.9897219419479371\n[0, 410] loss: 0.8910582482814788\n[0, 420] loss: 0.9965277910232544\n[0, 430] loss: 1.0002052456140518\n[0, 440] loss: 0.8517344057559967\n[0, 450] loss: 1.0608808040618896\n[0, 460] loss: 0.9540068238973618\n[0, 470] loss: 0.9099588900804519\n[0, 480] loss: 0.8371882200241089\n[0, 490] loss: 0.8634836107492447\n[0, 500] loss: 1.1052271366119384\n[1, 0] loss: 0.11082743406295777\n[1, 10] loss: 0.877427664399147\n[1, 20] loss: 0.8678519546985626\n[1, 30] loss: 1.015684860944748\n[1, 40] loss: 0.9995167434215546\n[1, 50] loss: 0.8313253819942474\n[1, 60] loss: 0.9082497358322144\n[1, 70] loss: 0.9614728480577469\n[1, 80] loss: 0.9777044117450714\n[1, 90] loss: 0.9855087518692016\n"
    },
    {
     "ename": "KeyboardInterrupt",
     "evalue": "",
     "output_type": "error",
     "traceback": [
      "\u001b[1;31m---------------------------------------------------------------------------\u001b[0m",
      "\u001b[1;31mKeyboardInterrupt\u001b[0m                         Traceback (most recent call last)",
      "\u001b[1;32m<ipython-input-5-aa50c833c1b1>\u001b[0m in \u001b[0;36m<module>\u001b[1;34m\u001b[0m\n\u001b[0;32m      1\u001b[0m \u001b[1;31m# Train the model\u001b[0m\u001b[1;33m\u001b[0m\u001b[1;33m\u001b[0m\u001b[1;33m\u001b[0m\u001b[0m\n\u001b[1;32m----> 2\u001b[1;33m \u001b[0mtrain_model\u001b[0m\u001b[1;33m(\u001b[0m\u001b[0mmodel\u001b[0m\u001b[1;33m,\u001b[0m \u001b[0mtrain_data\u001b[0m\u001b[1;33m,\u001b[0m \u001b[0mepochs\u001b[0m\u001b[1;33m=\u001b[0m\u001b[1;36m20\u001b[0m\u001b[1;33m,\u001b[0m \u001b[0mlearning_rate\u001b[0m\u001b[1;33m=\u001b[0m\u001b[1;36m0.0001\u001b[0m\u001b[1;33m,\u001b[0m \u001b[0mprint_stats_every\u001b[0m\u001b[1;33m=\u001b[0m\u001b[1;36m10\u001b[0m\u001b[1;33m)\u001b[0m\u001b[1;33m\u001b[0m\u001b[1;33m\u001b[0m\u001b[0m\n\u001b[0m",
      "\u001b[1;32mc:\\Users\\bilunsun\\Documents\\bilun_coding\\connect_four_ai\\torch_model.py\u001b[0m in \u001b[0;36mtrain_model\u001b[1;34m(model, train_data, epochs, batch_size, learning_rate, print_stats_every)\u001b[0m\n\u001b[0;32m    129\u001b[0m             \u001b[0mloss\u001b[0m \u001b[1;33m=\u001b[0m \u001b[0mpolicy_loss\u001b[0m \u001b[1;33m+\u001b[0m \u001b[0mvalue_loss\u001b[0m\u001b[1;33m\u001b[0m\u001b[1;33m\u001b[0m\u001b[0m\n\u001b[0;32m    130\u001b[0m \u001b[1;33m\u001b[0m\u001b[0m\n\u001b[1;32m--> 131\u001b[1;33m             \u001b[0mloss\u001b[0m\u001b[1;33m.\u001b[0m\u001b[0mbackward\u001b[0m\u001b[1;33m(\u001b[0m\u001b[1;33m)\u001b[0m\u001b[1;33m\u001b[0m\u001b[1;33m\u001b[0m\u001b[0m\n\u001b[0m\u001b[0;32m    132\u001b[0m             \u001b[0moptimizer\u001b[0m\u001b[1;33m.\u001b[0m\u001b[0mstep\u001b[0m\u001b[1;33m(\u001b[0m\u001b[1;33m)\u001b[0m\u001b[1;33m\u001b[0m\u001b[1;33m\u001b[0m\u001b[0m\n\u001b[0;32m    133\u001b[0m \u001b[1;33m\u001b[0m\u001b[0m\n",
      "\u001b[1;32m~\\Anaconda3\\envs\\connect_four_ai\\lib\\site-packages\\torch\\tensor.py\u001b[0m in \u001b[0;36mbackward\u001b[1;34m(self, gradient, retain_graph, create_graph)\u001b[0m\n\u001b[0;32m    193\u001b[0m                 \u001b[0mproducts\u001b[0m\u001b[1;33m.\u001b[0m \u001b[0mDefaults\u001b[0m \u001b[0mto\u001b[0m\u001b[0;31m \u001b[0m\u001b[0;31m`\u001b[0m\u001b[0;31m`\u001b[0m\u001b[1;32mFalse\u001b[0m\u001b[0;31m`\u001b[0m\u001b[0;31m`\u001b[0m\u001b[1;33m.\u001b[0m\u001b[1;33m\u001b[0m\u001b[1;33m\u001b[0m\u001b[0m\n\u001b[0;32m    194\u001b[0m         \"\"\"\n\u001b[1;32m--> 195\u001b[1;33m         \u001b[0mtorch\u001b[0m\u001b[1;33m.\u001b[0m\u001b[0mautograd\u001b[0m\u001b[1;33m.\u001b[0m\u001b[0mbackward\u001b[0m\u001b[1;33m(\u001b[0m\u001b[0mself\u001b[0m\u001b[1;33m,\u001b[0m \u001b[0mgradient\u001b[0m\u001b[1;33m,\u001b[0m \u001b[0mretain_graph\u001b[0m\u001b[1;33m,\u001b[0m \u001b[0mcreate_graph\u001b[0m\u001b[1;33m)\u001b[0m\u001b[1;33m\u001b[0m\u001b[1;33m\u001b[0m\u001b[0m\n\u001b[0m\u001b[0;32m    196\u001b[0m \u001b[1;33m\u001b[0m\u001b[0m\n\u001b[0;32m    197\u001b[0m     \u001b[1;32mdef\u001b[0m \u001b[0mregister_hook\u001b[0m\u001b[1;33m(\u001b[0m\u001b[0mself\u001b[0m\u001b[1;33m,\u001b[0m \u001b[0mhook\u001b[0m\u001b[1;33m)\u001b[0m\u001b[1;33m:\u001b[0m\u001b[1;33m\u001b[0m\u001b[1;33m\u001b[0m\u001b[0m\n",
      "\u001b[1;32m~\\Anaconda3\\envs\\connect_four_ai\\lib\\site-packages\\torch\\autograd\\__init__.py\u001b[0m in \u001b[0;36mbackward\u001b[1;34m(tensors, grad_tensors, retain_graph, create_graph, grad_variables)\u001b[0m\n\u001b[0;32m     97\u001b[0m     Variable._execution_engine.run_backward(\n\u001b[0;32m     98\u001b[0m         \u001b[0mtensors\u001b[0m\u001b[1;33m,\u001b[0m \u001b[0mgrad_tensors\u001b[0m\u001b[1;33m,\u001b[0m \u001b[0mretain_graph\u001b[0m\u001b[1;33m,\u001b[0m \u001b[0mcreate_graph\u001b[0m\u001b[1;33m,\u001b[0m\u001b[1;33m\u001b[0m\u001b[1;33m\u001b[0m\u001b[0m\n\u001b[1;32m---> 99\u001b[1;33m         allow_unreachable=True)  # allow_unreachable flag\n\u001b[0m\u001b[0;32m    100\u001b[0m \u001b[1;33m\u001b[0m\u001b[0m\n\u001b[0;32m    101\u001b[0m \u001b[1;33m\u001b[0m\u001b[0m\n",
      "\u001b[1;31mKeyboardInterrupt\u001b[0m: "
     ]
    }
   ],
   "source": [
    "# Train the model\n",
    "train_model(model, train_data, epochs=20, learning_rate=0.0001, print_stats_every=10)"
   ]
  },
  {
   "cell_type": "code",
   "execution_count": 14,
   "metadata": {},
   "outputs": [
    {
     "name": "stdout",
     "output_type": "stream",
     "text": "NN Policy: tensor([ 0.2509,  0.2600,  0.2348,  0.1534, -0.0413,  0.1108,  0.1588])\nNN Value: tensor([-0.9441])\nTurn: White\n0  1  2  3  4  5  6\n.  .  .  .  .  .  .  \n.  .  .  .  .  .  .  \n.  .  .  .  .  .  .  \n.  .  .  .  .  .  .  \n.  .  .  .  .  .  .  \n.  X  .  .  .  .  .  \n\nNN Policy: tensor([ 0.0101,  0.2731,  0.2716,  0.2458,  0.1001,  0.2288, -0.1874])\nNN Value: tensor([0.7874])\nTurn: Black\n0  1  2  3  4  5  6\n.  .  .  .  .  .  .  \n.  .  .  .  .  .  .  \n.  .  .  .  .  .  .  \n.  .  .  .  .  .  .  \n.  O  .  .  .  .  .  \n.  X  .  .  .  .  .  \n\nNN Policy: tensor([ 0.0138,  0.2469,  0.2222,  0.3938,  0.1455,  0.1855, -0.0469])\nNN Value: tensor([-0.9816])\nTurn: White\n0  1  2  3  4  5  6\n.  .  .  .  .  .  .  \n.  .  .  .  .  .  .  \n.  .  .  .  .  .  .  \n.  .  .  .  .  .  .  \n.  O  .  .  .  .  .  \n.  X  .  X  .  .  .  \n\nNN Policy: tensor([-0.1136,  0.2102,  0.1052,  0.2971,  0.2767,  0.3064, -0.0760])\nNN Value: tensor([-0.9961])\nTurn: Black\n0  1  2  3  4  5  6\n.  .  .  .  .  .  .  \n.  .  .  .  .  .  .  \n.  .  .  .  .  .  .  \n.  .  .  .  .  .  .  \n.  O  .  .  .  .  .  \n.  X  .  X  .  O  .  \n\nNN Policy: tensor([0.1459, 0.1748, 0.1475, 0.0647, 0.4138, 0.2987, 0.1149])\nNN Value: tensor([-0.9677])\nTurn: White\n0  1  2  3  4  5  6\n.  .  .  .  .  .  .  \n.  .  .  .  .  .  .  \n.  .  .  .  .  .  .  \n.  .  .  .  .  .  .  \n.  O  .  .  .  .  .  \n.  X  .  X  X  O  .  \n\nNN Policy: tensor([ 0.0647,  0.1284,  0.3328,  0.0770,  0.3195,  0.3917, -0.1757])\nNN Value: tensor([-0.9929])\nTurn: Black\n0  1  2  3  4  5  6\n.  .  .  .  .  .  .  \n.  .  .  .  .  .  .  \n.  .  .  .  .  .  .  \n.  .  .  .  .  .  .  \n.  O  .  .  .  O  .  \n.  X  .  X  X  O  .  \n\nNN Policy: tensor([ 0.0533,  0.2428,  0.0356,  0.1717,  0.3139,  0.3598, -0.0387])\nNN Value: tensor([-0.9739])\nTurn: White\n0  1  2  3  4  5  6\n.  .  .  .  .  .  .  \n.  .  .  .  .  .  .  \n.  .  .  .  .  .  .  \n.  .  .  .  .  X  .  \n.  O  .  .  .  O  .  \n.  X  .  X  X  O  .  \n\nNN Policy: tensor([ 0.3027,  0.2672,  0.0265, -0.0182,  0.1336,  0.2648, -0.1227])\nNN Value: tensor([-0.9776])\nTurn: Black\n0  1  2  3  4  5  6\n.  .  .  .  .  .  .  \n.  .  .  .  .  .  .  \n.  .  .  .  .  .  .  \n.  .  .  .  .  X  .  \n.  O  .  .  .  O  .  \nO  X  .  X  X  O  .  \n\nNN Policy: tensor([ 0.0549,  0.0396,  0.2430, -0.0205,  0.1485,  0.4361,  0.0664])\nNN Value: tensor([-0.9699])\nTurn: White\n0  1  2  3  4  5  6\n.  .  .  .  .  .  .  \n.  .  .  .  .  .  .  \n.  .  .  .  .  X  .  \n.  .  .  .  .  X  .  \n.  O  .  .  .  O  .  \nO  X  .  X  X  O  .  \n\nNN Policy: tensor([0.3012, 0.3355, 0.1274, 0.0062, 0.1028, 0.1888, 0.1199])\nNN Value: tensor([-0.9758])\nTurn: Black\n0  1  2  3  4  5  6\n.  .  .  .  .  .  .  \n.  .  .  .  .  .  .  \n.  .  .  .  .  X  .  \n.  O  .  .  .  X  .  \n.  O  .  .  .  O  .  \nO  X  .  X  X  O  .  \n\nNN Policy: tensor([0.2250, 0.2205, 0.3506, 0.0700, 0.1241, 0.2486, 0.0147])\nNN Value: tensor([-0.9778])\nTurn: White\n0  1  2  3  4  5  6\n.  .  .  .  .  .  .  \n.  .  .  .  .  .  .  \n.  .  .  .  .  X  .  \n.  O  .  .  .  X  .  \n.  O  .  .  .  O  .  \nO  X  X  X  X  O  .  \n\n"
    }
   ],
   "source": [
    "play_sample_game_with_model(model)"
   ]
  },
  {
   "cell_type": "code",
   "execution_count": null,
   "metadata": {},
   "outputs": [],
   "source": []
  }
 ]
}